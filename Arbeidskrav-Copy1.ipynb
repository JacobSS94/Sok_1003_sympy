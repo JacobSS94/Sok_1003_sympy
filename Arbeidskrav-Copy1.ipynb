{
 "cells": [
  {
   "cell_type": "code",
   "execution_count": 5,
   "id": "75487cc2-07f6-4cb7-bd0d-ff94168da3df",
   "metadata": {},
   "outputs": [],
   "source": [
    "import numpy as np\n",
    "import sympy as sp\n",
    "from sympy.solvers import solve\n",
    "x, y=sp.symbols('x,y')"
   ]
  },
  {
   "cell_type": "code",
   "execution_count": null,
   "id": "ca92f770-2494-4bb2-b999-317bfa96a075",
   "metadata": {},
   "outputs": [],
   "source": [
    "# Likningsett 15 "
   ]
  },
  {
   "cell_type": "code",
   "execution_count": 2,
   "id": "290d03b1-2860-44ad-a917-d022d60370e1",
   "metadata": {},
   "outputs": [
    {
     "data": {
      "text/latex": [
       "$\\displaystyle 2 x + 4 y = 6$"
      ],
      "text/plain": [
       "Eq(2*x + 4*y, 6)"
      ]
     },
     "execution_count": 2,
     "metadata": {},
     "output_type": "execute_result"
    }
   ],
   "source": [
    "# oppgave 1a\n",
    "eq1=sp.Eq(2*x + 4*y, 6)\n",
    "eq1"
   ]
  },
  {
   "cell_type": "code",
   "execution_count": 3,
   "id": "351fdd1e-5448-4ef3-94ec-3f4658aabdc7",
   "metadata": {},
   "outputs": [
    {
     "data": {
      "text/latex": [
       "$\\displaystyle - 2 x + y = 4$"
      ],
      "text/plain": [
       "Eq(-2*x + y, 4)"
      ]
     },
     "execution_count": 3,
     "metadata": {},
     "output_type": "execute_result"
    }
   ],
   "source": [
    "eq2=sp.Eq(-2*x+y, 4)\n",
    "eq2"
   ]
  },
  {
   "cell_type": "code",
   "execution_count": 4,
   "id": "61eb15d1-01e0-4f0f-b7c2-36ceae2730d3",
   "metadata": {},
   "outputs": [
    {
     "data": {
      "text/plain": [
       "{x: -1, y: 2}"
      ]
     },
     "execution_count": 4,
     "metadata": {},
     "output_type": "execute_result"
    }
   ],
   "source": [
    "solve([eq1,eq2], [x,y])\n",
    "#Svar:"
   ]
  },
  {
   "cell_type": "code",
   "execution_count": 5,
   "id": "54e8530a-107a-49d1-9f63-4c731c6ea376",
   "metadata": {},
   "outputs": [
    {
     "data": {
      "text/latex": [
       "$\\displaystyle 2 x - y = -1$"
      ],
      "text/plain": [
       "Eq(2*x - y, -1)"
      ]
     },
     "execution_count": 5,
     "metadata": {},
     "output_type": "execute_result"
    }
   ],
   "source": [
    "# Oppgave 1b\n",
    "eq3=sp.Eq(2*x-y,-1)\n",
    "eq3"
   ]
  },
  {
   "cell_type": "code",
   "execution_count": 6,
   "id": "853fd178-6bb8-4ead-96ff-37b611353565",
   "metadata": {},
   "outputs": [
    {
     "data": {
      "text/latex": [
       "$\\displaystyle x^{2} + x - y = 1$"
      ],
      "text/plain": [
       "Eq(x**2 + x - y, 1)"
      ]
     },
     "execution_count": 6,
     "metadata": {},
     "output_type": "execute_result"
    }
   ],
   "source": [
    "eq4=sp.Eq(x**2+x-y,1)\n",
    "eq4"
   ]
  },
  {
   "cell_type": "code",
   "execution_count": 7,
   "id": "329df211-7b4f-47d8-82a3-8c3cfb05016d",
   "metadata": {},
   "outputs": [
    {
     "data": {
      "text/plain": [
       "[(-1, -1), (2, 5)]"
      ]
     },
     "execution_count": 7,
     "metadata": {},
     "output_type": "execute_result"
    }
   ],
   "source": [
    "solve([eq3,eq4], [x,y])\n",
    "#Svar:"
   ]
  },
  {
   "cell_type": "code",
   "execution_count": 8,
   "id": "c38576b1-fe4e-483e-b175-fe3101013958",
   "metadata": {},
   "outputs": [
    {
     "data": {
      "text/latex": [
       "$\\displaystyle 3 x - 12 = - 6 y$"
      ],
      "text/plain": [
       "Eq(3*x - 12, -6*y)"
      ]
     },
     "execution_count": 8,
     "metadata": {},
     "output_type": "execute_result"
    }
   ],
   "source": [
    "# Oppgave 2a\n",
    "eq5=sp.Eq(3*x-12,-6*y)\n",
    "eq5"
   ]
  },
  {
   "cell_type": "code",
   "execution_count": 9,
   "id": "135bffd8-97ac-4f11-8da2-37e6e9070c28",
   "metadata": {},
   "outputs": [
    {
     "data": {
      "text/latex": [
       "$\\displaystyle 4 x - 8 y = 16$"
      ],
      "text/plain": [
       "Eq(4*x - 8*y, 16)"
      ]
     },
     "execution_count": 9,
     "metadata": {},
     "output_type": "execute_result"
    }
   ],
   "source": [
    "eq6=sp.Eq(4*x-8*y, 16)\n",
    "eq6"
   ]
  },
  {
   "cell_type": "code",
   "execution_count": 10,
   "id": "8ea92155-b63d-428e-97ef-4f4e4d532c95",
   "metadata": {},
   "outputs": [
    {
     "data": {
      "text/plain": [
       "{x: 4, y: 0}"
      ]
     },
     "execution_count": 10,
     "metadata": {},
     "output_type": "execute_result"
    }
   ],
   "source": [
    "solve([eq5,eq6], [x,y])\n",
    "# svar:"
   ]
  },
  {
   "cell_type": "code",
   "execution_count": 11,
   "id": "100fd6d4-47e1-4286-9475-25192b41a57b",
   "metadata": {},
   "outputs": [
    {
     "data": {
      "text/latex": [
       "$\\displaystyle x^{2} + 4 x - 3 = 3 y$"
      ],
      "text/plain": [
       "Eq(x**2 + 4*x - 3, 3*y)"
      ]
     },
     "execution_count": 11,
     "metadata": {},
     "output_type": "execute_result"
    }
   ],
   "source": [
    "# Oppgave 2b\n",
    "eq7=sp.Eq(x**2+ 4*x-3, 3*y)\n",
    "eq7"
   ]
  },
  {
   "cell_type": "code",
   "execution_count": 12,
   "id": "f4af4816-ee23-44da-a71e-238fbbece170",
   "metadata": {},
   "outputs": [
    {
     "data": {
      "text/latex": [
       "$\\displaystyle 2 y = 8 - x$"
      ],
      "text/plain": [
       "Eq(2*y, 8 - x)"
      ]
     },
     "execution_count": 12,
     "metadata": {},
     "output_type": "execute_result"
    }
   ],
   "source": [
    "eq8=sp.Eq(2*y, 8-x)\n",
    "eq8"
   ]
  },
  {
   "cell_type": "code",
   "execution_count": 13,
   "id": "4efc10f4-3c81-4793-87c6-8e11512c0228",
   "metadata": {},
   "outputs": [
    {
     "data": {
      "text/plain": [
       "[(-15/2, 31/4), (2, 3)]"
      ]
     },
     "execution_count": 13,
     "metadata": {},
     "output_type": "execute_result"
    }
   ],
   "source": [
    "solve([eq7,eq8], [x,y])\n",
    "# Svar:"
   ]
  },
  {
   "cell_type": "code",
   "execution_count": 14,
   "id": "6a83db46-71e3-40ec-b11c-1165dca8d04d",
   "metadata": {},
   "outputs": [
    {
     "data": {
      "text/latex": [
       "$\\displaystyle 4 x + 2 y = 12$"
      ],
      "text/plain": [
       "Eq(4*x + 2*y, 12)"
      ]
     },
     "execution_count": 14,
     "metadata": {},
     "output_type": "execute_result"
    }
   ],
   "source": [
    "# Likningsett 16\n",
    "# Oppgave 1a\n",
    "eq9=sp.Eq(4*x+ 2*y, 12)\n",
    "eq9"
   ]
  },
  {
   "cell_type": "code",
   "execution_count": 15,
   "id": "fb0bd6dd-187b-4e86-af7d-17ddb5cbdc8e",
   "metadata": {},
   "outputs": [
    {
     "data": {
      "text/latex": [
       "$\\displaystyle 6 x - 2 y = 8$"
      ],
      "text/plain": [
       "Eq(6*x - 2*y, 8)"
      ]
     },
     "execution_count": 15,
     "metadata": {},
     "output_type": "execute_result"
    }
   ],
   "source": [
    "eq10=sp.Eq(6*x-2*y, 8)\n",
    "eq10"
   ]
  },
  {
   "cell_type": "code",
   "execution_count": 16,
   "id": "ee5be125-28c5-4758-ac3a-f84af9ecbf5d",
   "metadata": {},
   "outputs": [
    {
     "data": {
      "text/plain": [
       "{x: 2, y: 2}"
      ]
     },
     "execution_count": 16,
     "metadata": {},
     "output_type": "execute_result"
    }
   ],
   "source": [
    "solve([eq9,eq10], [x,y])\n",
    "# svar:"
   ]
  },
  {
   "cell_type": "code",
   "execution_count": 17,
   "id": "46d6a2ec-e217-4d6a-a048-52b0e2658b3e",
   "metadata": {},
   "outputs": [
    {
     "data": {
      "text/latex": [
       "$\\displaystyle 2 x + 2 y = 25$"
      ],
      "text/plain": [
       "Eq(2*x + 2*y, 25)"
      ]
     },
     "execution_count": 17,
     "metadata": {},
     "output_type": "execute_result"
    }
   ],
   "source": [
    "# oppgave 1b\n",
    "eq11=sp.Eq(2*x+y*2, 25)\n",
    "eq11"
   ]
  },
  {
   "cell_type": "code",
   "execution_count": 18,
   "id": "a2bc6f70-958b-4feb-a514-5787a9d120db",
   "metadata": {},
   "outputs": [
    {
     "data": {
      "text/latex": [
       "$\\displaystyle x - 2 y = 10$"
      ],
      "text/plain": [
       "Eq(x - 2*y, 10)"
      ]
     },
     "execution_count": 18,
     "metadata": {},
     "output_type": "execute_result"
    }
   ],
   "source": [
    "eq12=sp.Eq(x-2*y, 10)\n",
    "eq12"
   ]
  },
  {
   "cell_type": "code",
   "execution_count": 19,
   "id": "3f64fc2c-c24b-4d8d-8272-e2ec95a2be75",
   "metadata": {},
   "outputs": [
    {
     "data": {
      "text/plain": [
       "{x: 35/3, y: 5/6}"
      ]
     },
     "execution_count": 19,
     "metadata": {},
     "output_type": "execute_result"
    }
   ],
   "source": [
    "solve([eq11,eq12], [x,y])\n",
    "# svar:"
   ]
  },
  {
   "cell_type": "code",
   "execution_count": 20,
   "id": "51f235ab-be2c-49f8-ae37-93cd3ad4b0cb",
   "metadata": {},
   "outputs": [
    {
     "data": {
      "text/latex": [
       "$\\displaystyle 4 x - 4 y = 8$"
      ],
      "text/plain": [
       "Eq(4*x - 4*y, 8)"
      ]
     },
     "execution_count": 20,
     "metadata": {},
     "output_type": "execute_result"
    }
   ],
   "source": [
    "# Oppgave 2a\n",
    "eq13=sp.Eq(4*x-4*y, 8)\n",
    "eq13"
   ]
  },
  {
   "cell_type": "code",
   "execution_count": 21,
   "id": "0e986719-e704-4a64-8023-a8a1fac4c97a",
   "metadata": {},
   "outputs": [
    {
     "data": {
      "text/latex": [
       "$\\displaystyle 9 x - 5 y = 26$"
      ],
      "text/plain": [
       "Eq(9*x - 5*y, 26)"
      ]
     },
     "execution_count": 21,
     "metadata": {},
     "output_type": "execute_result"
    }
   ],
   "source": [
    "eq14=sp.Eq(9*x-5*y, 26)\n",
    "eq14"
   ]
  },
  {
   "cell_type": "code",
   "execution_count": 22,
   "id": "9839d344-e429-4630-a936-9475f2e02e3a",
   "metadata": {},
   "outputs": [
    {
     "data": {
      "text/plain": [
       "{x: 4, y: 2}"
      ]
     },
     "execution_count": 22,
     "metadata": {},
     "output_type": "execute_result"
    }
   ],
   "source": [
    "solve([eq13,eq14], [x,y])\n",
    "# Svar:"
   ]
  },
  {
   "cell_type": "code",
   "execution_count": 23,
   "id": "91443f04-25a2-46e0-b1fd-7efefa57b22b",
   "metadata": {},
   "outputs": [
    {
     "data": {
      "text/latex": [
       "$\\displaystyle x + 2 y^{2} = 15$"
      ],
      "text/plain": [
       "Eq(x + 2*y**2, 15)"
      ]
     },
     "execution_count": 23,
     "metadata": {},
     "output_type": "execute_result"
    }
   ],
   "source": [
    "# Oppgave 2b\n",
    "eq15=sp.Eq(x+ 2*y**2, 15)\n",
    "eq15"
   ]
  },
  {
   "cell_type": "code",
   "execution_count": 24,
   "id": "5ec45291-8f9c-490b-a45e-afc51a72cfed",
   "metadata": {},
   "outputs": [
    {
     "data": {
      "text/latex": [
       "$\\displaystyle 2 x - 4 y^{2} = 33$"
      ],
      "text/plain": [
       "Eq(2*x - 4*y**2, 33)"
      ]
     },
     "execution_count": 24,
     "metadata": {},
     "output_type": "execute_result"
    }
   ],
   "source": [
    "eq16=sp.Eq(x*2-4*y**2, 33)\n",
    "eq16"
   ]
  },
  {
   "cell_type": "code",
   "execution_count": 25,
   "id": "866baeb4-6b47-42a5-8e13-630aaa420024",
   "metadata": {},
   "outputs": [
    {
     "data": {
      "text/plain": [
       "[(63/4, -sqrt(6)*I/4), (63/4, sqrt(6)*I/4)]"
      ]
     },
     "execution_count": 25,
     "metadata": {},
     "output_type": "execute_result"
    }
   ],
   "source": [
    "solve([eq15,eq16], [x,y])\n",
    "# svar:"
   ]
  },
  {
   "cell_type": "code",
   "execution_count": 26,
   "id": "967a5e1a-0c77-4484-b048-ab61a946b678",
   "metadata": {},
   "outputs": [
    {
     "data": {
      "text/latex": [
       "$\\displaystyle x y^{2} - x = 0$"
      ],
      "text/plain": [
       "Eq(x*y**2 - x, 0)"
      ]
     },
     "execution_count": 26,
     "metadata": {},
     "output_type": "execute_result"
    }
   ],
   "source": [
    "# liknigsett 17\n",
    "# Oppgave 1a\n",
    "eq17=sp.Eq(x*y**2-x, 0)\n",
    "eq17"
   ]
  },
  {
   "cell_type": "code",
   "execution_count": 27,
   "id": "3eac9344-77bb-47db-80f7-a94203b5eba7",
   "metadata": {},
   "outputs": [
    {
     "data": {
      "text/latex": [
       "$\\displaystyle x + y^{2} = 16$"
      ],
      "text/plain": [
       "Eq(x + y**2, 16)"
      ]
     },
     "execution_count": 27,
     "metadata": {},
     "output_type": "execute_result"
    }
   ],
   "source": [
    "eq18=sp.Eq(x+y**2, 16)\n",
    "eq18"
   ]
  },
  {
   "cell_type": "code",
   "execution_count": 28,
   "id": "0f08e0d9-032d-4147-b863-b3bed5f6a987",
   "metadata": {},
   "outputs": [
    {
     "data": {
      "text/plain": [
       "[(0, -4), (0, 4), (15, -1), (15, 1)]"
      ]
     },
     "execution_count": 28,
     "metadata": {},
     "output_type": "execute_result"
    }
   ],
   "source": [
    "solve([eq17,eq18], [x,y])\n",
    "# svar:"
   ]
  },
  {
   "cell_type": "code",
   "execution_count": 29,
   "id": "d24d2f2f-2a2f-41a3-812b-861bcf29f089",
   "metadata": {},
   "outputs": [
    {
     "data": {
      "text/latex": [
       "$\\displaystyle x^{2} + y^{2} = 100$"
      ],
      "text/plain": [
       "Eq(x**2 + y**2, 100)"
      ]
     },
     "execution_count": 29,
     "metadata": {},
     "output_type": "execute_result"
    }
   ],
   "source": [
    "# Oppgave 1b\n",
    "eq19=sp.Eq(x**2+y**2, 100)\n",
    "eq19"
   ]
  },
  {
   "cell_type": "code",
   "execution_count": 30,
   "id": "cbed972b-a154-4126-818c-9d6f4c3c59dd",
   "metadata": {},
   "outputs": [
    {
     "data": {
      "text/latex": [
       "$\\displaystyle x^{2} y - 36 y = 0$"
      ],
      "text/plain": [
       "Eq(x**2*y - 36*y, 0)"
      ]
     },
     "execution_count": 30,
     "metadata": {},
     "output_type": "execute_result"
    }
   ],
   "source": [
    "eq20=sp.Eq(x**2*y-36*y, 0)\n",
    "eq20"
   ]
  },
  {
   "cell_type": "code",
   "execution_count": 31,
   "id": "84355e10-d364-4dfc-9964-9ef641056906",
   "metadata": {},
   "outputs": [
    {
     "data": {
      "text/plain": [
       "[(-10, 0), (-6, -8), (-6, 8), (6, -8), (6, 8), (10, 0)]"
      ]
     },
     "execution_count": 31,
     "metadata": {},
     "output_type": "execute_result"
    }
   ],
   "source": [
    "solve([eq19,eq20], [x,y])\n",
    "# svar:"
   ]
  },
  {
   "cell_type": "code",
   "execution_count": 32,
   "id": "63856fc4-7a0e-47b0-b255-90643fe544c6",
   "metadata": {},
   "outputs": [
    {
     "data": {
      "text/latex": [
       "$\\displaystyle x y^{2} - 49 x = 0$"
      ],
      "text/plain": [
       "Eq(x*y**2 - 49*x, 0)"
      ]
     },
     "execution_count": 32,
     "metadata": {},
     "output_type": "execute_result"
    }
   ],
   "source": [
    "# Oppgve 2a\n",
    "eq21=sp.Eq(x*y**2-49*x, 0)\n",
    "eq21"
   ]
  },
  {
   "cell_type": "code",
   "execution_count": 33,
   "id": "3e4fd0fc-ef0a-45af-b70e-9abef270690d",
   "metadata": {},
   "outputs": [
    {
     "data": {
      "text/latex": [
       "$\\displaystyle x^{2} + y^{2} = 58$"
      ],
      "text/plain": [
       "Eq(x**2 + y**2, 58)"
      ]
     },
     "execution_count": 33,
     "metadata": {},
     "output_type": "execute_result"
    }
   ],
   "source": [
    "eq22=sp.Eq(x**2+y**2, 58)\n",
    "eq22"
   ]
  },
  {
   "cell_type": "code",
   "execution_count": 34,
   "id": "77f65d0a-5d09-440d-9e14-3f6205ceaefc",
   "metadata": {},
   "outputs": [
    {
     "data": {
      "text/plain": [
       "[(-3, -7), (-3, 7), (0, -sqrt(58)), (0, sqrt(58)), (3, -7), (3, 7)]"
      ]
     },
     "execution_count": 34,
     "metadata": {},
     "output_type": "execute_result"
    }
   ],
   "source": [
    "solve([eq21,eq22], [x,y])\n",
    "# Svar:"
   ]
  },
  {
   "cell_type": "code",
   "execution_count": 35,
   "id": "a80a0015-7559-4c18-972d-e4eae1ac970f",
   "metadata": {},
   "outputs": [
    {
     "data": {
      "text/latex": [
       "$\\displaystyle x^{2} + y^{2} = 1.25$"
      ],
      "text/plain": [
       "Eq(x**2 + y**2, 1.25)"
      ]
     },
     "execution_count": 35,
     "metadata": {},
     "output_type": "execute_result"
    }
   ],
   "source": [
    "# Oppgave 2b\n",
    "eq23=sp.Eq(x**2+y**2,5/4)\n",
    "eq23"
   ]
  },
  {
   "cell_type": "code",
   "execution_count": 36,
   "id": "23a65a81-4864-44a7-b239-5848bb567488",
   "metadata": {},
   "outputs": [
    {
     "data": {
      "text/latex": [
       "$\\displaystyle 2 x y + y = 0$"
      ],
      "text/plain": [
       "Eq(2*x*y + y, 0)"
      ]
     },
     "execution_count": 36,
     "metadata": {},
     "output_type": "execute_result"
    }
   ],
   "source": [
    "eq24=sp.Eq(2*x*y+y, 0)\n",
    "eq24"
   ]
  },
  {
   "cell_type": "code",
   "execution_count": 37,
   "id": "9ff645d5-8b87-4123-ad59-a7998cd74911",
   "metadata": {},
   "outputs": [
    {
     "data": {
      "text/plain": [
       "[(-1.11803398874989, 0.0),\n",
       " (-0.500000000000000, -1.00000000000000),\n",
       " (-0.500000000000000, 1.00000000000000),\n",
       " (1.11803398874989, 0.0)]"
      ]
     },
     "execution_count": 37,
     "metadata": {},
     "output_type": "execute_result"
    }
   ],
   "source": [
    "solve([eq23,eq24], [x,y])\n",
    "#svar:"
   ]
  },
  {
   "cell_type": "code",
   "execution_count": null,
   "id": "0d6922f7-c0ad-430b-a437-0292172fc260",
   "metadata": {},
   "outputs": [],
   "source": [
    "# Liknigsett 19"
   ]
  },
  {
   "cell_type": "code",
   "execution_count": 38,
   "id": "052b51af-df5c-4d47-8b54-2465673a6a0c",
   "metadata": {},
   "outputs": [
    {
     "data": {
      "text/latex": [
       "$\\displaystyle 5 x^{4}$"
      ],
      "text/plain": [
       "5*x**4"
      ]
     },
     "execution_count": 38,
     "metadata": {},
     "output_type": "execute_result"
    }
   ],
   "source": [
    "# Oppgave 1a\n",
    "sp.diff(x**5)"
   ]
  },
  {
   "cell_type": "code",
   "execution_count": 39,
   "id": "ed71229d-4d83-4367-9d88-f3d692815baa",
   "metadata": {},
   "outputs": [
    {
     "data": {
      "text/latex": [
       "$\\displaystyle 1$"
      ],
      "text/plain": [
       "1"
      ]
     },
     "execution_count": 39,
     "metadata": {},
     "output_type": "execute_result"
    }
   ],
   "source": [
    "# Oppgave 1b\n",
    "sp.diff(x+ 12)"
   ]
  },
  {
   "cell_type": "code",
   "execution_count": 40,
   "id": "020b2a3d-6474-4ef2-9b24-a3feb1fccd5f",
   "metadata": {},
   "outputs": [
    {
     "data": {
      "text/latex": [
       "$\\displaystyle 3 x^{2} + 8 x$"
      ],
      "text/plain": [
       "3*x**2 + 8*x"
      ]
     },
     "execution_count": 40,
     "metadata": {},
     "output_type": "execute_result"
    }
   ],
   "source": [
    "# Oppgave 1c\n",
    "sp.diff(x**3+ 4*x**2)"
   ]
  },
  {
   "cell_type": "code",
   "execution_count": 41,
   "id": "0aeaae05-0550-46c2-ad48-0bbab665998e",
   "metadata": {},
   "outputs": [
    {
     "data": {
      "text/latex": [
       "$\\displaystyle 6 x^{2}$"
      ],
      "text/plain": [
       "6*x**2"
      ]
     },
     "execution_count": 41,
     "metadata": {},
     "output_type": "execute_result"
    }
   ],
   "source": [
    "# Oppgave 1d\n",
    "sp.diff(2*x**3+36**0.5)"
   ]
  },
  {
   "cell_type": "code",
   "execution_count": 42,
   "id": "be2a9e4a-5253-4ae3-a71f-bd64b32967bb",
   "metadata": {},
   "outputs": [
    {
     "data": {
      "text/latex": [
       "$\\displaystyle \\frac{0.5}{x^{0.5}}$"
      ],
      "text/plain": [
       "0.5*x**(-0.5)"
      ]
     },
     "execution_count": 42,
     "metadata": {},
     "output_type": "execute_result"
    }
   ],
   "source": [
    "# Oppgave 1e\n",
    "sp.diff(x**0.5+ 52)"
   ]
  },
  {
   "cell_type": "code",
   "execution_count": 43,
   "id": "df27bca5-f703-48d0-ad9a-d4cdbc7ae198",
   "metadata": {},
   "outputs": [
    {
     "data": {
      "text/latex": [
       "$\\displaystyle 4$"
      ],
      "text/plain": [
       "4"
      ]
     },
     "execution_count": 43,
     "metadata": {},
     "output_type": "execute_result"
    }
   ],
   "source": [
    "# Oppgave 1f\n",
    "sp.diff(x*3+1*x)"
   ]
  },
  {
   "cell_type": "code",
   "execution_count": 44,
   "id": "de4e80a9-19ab-4dd0-984d-cd8fecf5e8b6",
   "metadata": {},
   "outputs": [
    {
     "data": {
      "text/latex": [
       "$\\displaystyle 1.25$"
      ],
      "text/plain": [
       "1.25000000000000"
      ]
     },
     "execution_count": 44,
     "metadata": {},
     "output_type": "execute_result"
    }
   ],
   "source": [
    "# Oppgave 1g\n",
    "sp.diff(x*3-x*2+1/4*x)"
   ]
  },
  {
   "cell_type": "code",
   "execution_count": 45,
   "id": "699be067-ef2c-40d9-8402-fb393d3a85a7",
   "metadata": {},
   "outputs": [
    {
     "data": {
      "text/latex": [
       "$\\displaystyle 36 x^{5} - \\frac{1}{x^{2}}$"
      ],
      "text/plain": [
       "36*x**5 - 1/x**2"
      ]
     },
     "execution_count": 45,
     "metadata": {},
     "output_type": "execute_result"
    }
   ],
   "source": [
    "# Oppgave 2a\n",
    "sp.diff(1/x+ 6*x**6)"
   ]
  },
  {
   "cell_type": "code",
   "execution_count": 46,
   "id": "a6c617fa-e6e5-4a19-b2c1-e9cfe80b0750",
   "metadata": {},
   "outputs": [
    {
     "data": {
      "text/latex": [
       "$\\displaystyle 1.5 x^{2} - 1$"
      ],
      "text/plain": [
       "1.5*x**2 - 1"
      ]
     },
     "execution_count": 46,
     "metadata": {},
     "output_type": "execute_result"
    }
   ],
   "source": [
    "# Oppgave 2b\n",
    "sp.diff(-x+1/2*x**3)"
   ]
  },
  {
   "cell_type": "code",
   "execution_count": 47,
   "id": "6b1c1415-1d71-4d12-aa15-29f5b42c66fa",
   "metadata": {},
   "outputs": [
    {
     "data": {
      "text/latex": [
       "$\\displaystyle 2^{x} + x^{2} + x \\left(2^{x} \\log{\\left(2 \\right)} + 2 x\\right) - 3$"
      ],
      "text/plain": [
       "2**x + x**2 + x*(2**x*log(2) + 2*x) - 3"
      ]
     },
     "execution_count": 47,
     "metadata": {},
     "output_type": "execute_result"
    }
   ],
   "source": [
    "# Oppgave 2c\n",
    "sp.diff(x*(x**2+ 2**x-3))"
   ]
  },
  {
   "cell_type": "code",
   "execution_count": null,
   "id": "f52fcc7b-0379-403c-b144-997e13556d99",
   "metadata": {},
   "outputs": [],
   "source": [
    "# Likningsett 20"
   ]
  },
  {
   "cell_type": "code",
   "execution_count": 49,
   "id": "e3bef3d7-a234-4246-918a-93ba10a85363",
   "metadata": {},
   "outputs": [
    {
     "data": {
      "text/latex": [
       "$\\displaystyle 9 x^{8}$"
      ],
      "text/plain": [
       "9*x**8"
      ]
     },
     "execution_count": 49,
     "metadata": {},
     "output_type": "execute_result"
    }
   ],
   "source": [
    "# Oppgave 1e\n",
    "sp.diff(x**4*x**5)"
   ]
  },
  {
   "cell_type": "code",
   "execution_count": 51,
   "id": "d2928dfd-8de0-4104-9f72-0d391273b978",
   "metadata": {},
   "outputs": [
    {
     "data": {
      "text/latex": [
       "$\\displaystyle 1.5 x^{0.5}$"
      ],
      "text/plain": [
       "1.5*x**0.5"
      ]
     },
     "execution_count": 51,
     "metadata": {},
     "output_type": "execute_result"
    }
   ],
   "source": [
    "# Oppgave 1f\n",
    "sp.diff(x*x**0.5)"
   ]
  },
  {
   "cell_type": "code",
   "execution_count": 52,
   "id": "f092333d-1f47-4346-8fc1-435c61b5c947",
   "metadata": {},
   "outputs": [
    {
     "data": {
      "text/latex": [
       "$\\displaystyle - \\frac{6}{x^{4}}$"
      ],
      "text/plain": [
       "-6/x**4"
      ]
     },
     "execution_count": 52,
     "metadata": {},
     "output_type": "execute_result"
    }
   ],
   "source": [
    "# Oppgave 1g\n",
    "sp.diff(2/x**3)"
   ]
  },
  {
   "cell_type": "code",
   "execution_count": 68,
   "id": "0d738fa6-1dbd-4b33-895c-abdcc4434c97",
   "metadata": {},
   "outputs": [
    {
     "data": {
      "text/latex": [
       "$\\displaystyle 2 x + \\frac{6}{x^{4}}$"
      ],
      "text/plain": [
       "2*x + 6/x**4"
      ]
     },
     "execution_count": 68,
     "metadata": {},
     "output_type": "execute_result"
    }
   ],
   "source": [
    "# Oppgave 1h\n",
    "sp.diff(x**2-2/x**3)"
   ]
  },
  {
   "cell_type": "code",
   "execution_count": 54,
   "id": "a19f4bb9-f569-48db-88c8-194abf10b44e",
   "metadata": {},
   "outputs": [
    {
     "data": {
      "text/latex": [
       "$\\displaystyle 6.5 x^{5.5}$"
      ],
      "text/plain": [
       "6.5*x**5.5"
      ]
     },
     "execution_count": 54,
     "metadata": {},
     "output_type": "execute_result"
    }
   ],
   "source": [
    "# Oppgave 1i\n",
    "sp.diff(x**0.5*x**6)"
   ]
  },
  {
   "cell_type": "code",
   "execution_count": 55,
   "id": "e4ce88c2-a35f-403e-aba4-4369633adb4a",
   "metadata": {},
   "outputs": [
    {
     "data": {
      "text/latex": [
       "$\\displaystyle 3 x^{2} + 1$"
      ],
      "text/plain": [
       "3*x**2 + 1"
      ]
     },
     "execution_count": 55,
     "metadata": {},
     "output_type": "execute_result"
    }
   ],
   "source": [
    "# Oppgave 1j\n",
    "sp.diff(x*(x**2+ 1))"
   ]
  },
  {
   "cell_type": "code",
   "execution_count": 56,
   "id": "aca450cf-fbbd-4a7c-abb2-becaefae00d7",
   "metadata": {},
   "outputs": [
    {
     "data": {
      "text/latex": [
       "$\\displaystyle 2 x - \\frac{12}{x^{4}}$"
      ],
      "text/plain": [
       "2*x - 12/x**4"
      ]
     },
     "execution_count": 56,
     "metadata": {},
     "output_type": "execute_result"
    }
   ],
   "source": [
    "# Oppgave 1k\n",
    "sp.diff(x**2+ 4/x**3-1)"
   ]
  },
  {
   "cell_type": "code",
   "execution_count": 57,
   "id": "93cbc6ee-3659-4670-ab9b-5cd06d9be74e",
   "metadata": {},
   "outputs": [
    {
     "data": {
      "text/latex": [
       "$\\displaystyle 2$"
      ],
      "text/plain": [
       "2"
      ]
     },
     "execution_count": 57,
     "metadata": {},
     "output_type": "execute_result"
    }
   ],
   "source": [
    "# Oppgave 1l\n",
    "sp.diff(x**2/x**2+ 2*x)"
   ]
  },
  {
   "cell_type": "code",
   "execution_count": 58,
   "id": "ca3efc7e-56d6-4d3d-94d5-183d37e43dfa",
   "metadata": {},
   "outputs": [
    {
     "data": {
      "text/latex": [
       "$\\displaystyle 2 x + 4 - \\frac{2}{x^{2}}$"
      ],
      "text/plain": [
       "2*x + 4 - 2/x**2"
      ]
     },
     "execution_count": 58,
     "metadata": {},
     "output_type": "execute_result"
    }
   ],
   "source": [
    "# Oppgave 1m\n",
    "sp.diff(x**2+ 4*x+ 2/x-2)"
   ]
  },
  {
   "cell_type": "code",
   "execution_count": 59,
   "id": "e96d71cd-f0aa-42d5-85ae-7c99c46e43f3",
   "metadata": {},
   "outputs": [
    {
     "data": {
      "text/latex": [
       "$\\displaystyle 3 x^{2} + \\frac{2}{x^{2}}$"
      ],
      "text/plain": [
       "3*x**2 + 2/x**2"
      ]
     },
     "execution_count": 59,
     "metadata": {},
     "output_type": "execute_result"
    }
   ],
   "source": [
    "# Oppgave 2a\n",
    "sp.diff(x**3-2*x/x**2-1)"
   ]
  },
  {
   "cell_type": "code",
   "execution_count": 60,
   "id": "27b7b748-d278-4839-a9f2-a95846f310e7",
   "metadata": {},
   "outputs": [
    {
     "data": {
      "text/latex": [
       "$\\displaystyle 2 x \\left(x^{2} - 1\\right) + 2 x \\left(x^{2} + 1\\right)$"
      ],
      "text/plain": [
       "2*x*(x**2 - 1) + 2*x*(x**2 + 1)"
      ]
     },
     "execution_count": 60,
     "metadata": {},
     "output_type": "execute_result"
    }
   ],
   "source": [
    "# Oppgave 2b\n",
    "sp.diff((x**2+ 1)*(x**2-1))"
   ]
  },
  {
   "cell_type": "code",
   "execution_count": 61,
   "id": "bcb5ad72-1d9e-4326-a246-df8bdaa17aba",
   "metadata": {},
   "outputs": [
    {
     "data": {
      "text/latex": [
       "$\\displaystyle 3 + \\frac{12}{x^{4}}$"
      ],
      "text/plain": [
       "3 + 12/x**4"
      ]
     },
     "execution_count": 61,
     "metadata": {},
     "output_type": "execute_result"
    }
   ],
   "source": [
    "# Oppgave 2c\n",
    "sp.diff(3*x-4/x**3+ 7)"
   ]
  },
  {
   "cell_type": "code",
   "execution_count": null,
   "id": "e7a7c716-7090-4d69-a84e-026faaff5374",
   "metadata": {},
   "outputs": [],
   "source": [
    "# Liknignsett 21"
   ]
  },
  {
   "cell_type": "code",
   "execution_count": 76,
   "id": "93812aab-d7a0-49a3-82bb-d8d2092e924b",
   "metadata": {},
   "outputs": [
    {
     "data": {
      "text/latex": [
       "$\\displaystyle \\left(3 x^{2} + 6\\right)^{5}$"
      ],
      "text/plain": [
       "(3*x**2 + 6)**5"
      ]
     },
     "execution_count": 76,
     "metadata": {},
     "output_type": "execute_result"
    }
   ],
   "source": [
    "# Oppgave 1a\n",
    "sp.diff(x**3+ 6*x)**5"
   ]
  },
  {
   "cell_type": "code",
   "execution_count": 63,
   "id": "a086e86c-92b0-42c7-aef3-91b3b1fd87ea",
   "metadata": {},
   "outputs": [
    {
     "data": {
      "text/latex": [
       "$\\displaystyle \\frac{2 x}{\\sqrt{2 x^{2} + 5}}$"
      ],
      "text/plain": [
       "2*x/sqrt(2*x**2 + 5)"
      ]
     },
     "execution_count": 63,
     "metadata": {},
     "output_type": "execute_result"
    }
   ],
   "source": [
    "# Oppgave 1b\n",
    "sp.diff(sp.sqrt(2*x**2+ 5))"
   ]
  },
  {
   "cell_type": "code",
   "execution_count": 65,
   "id": "4db7b413-ba40-49dc-ac97-3f8829c8b2a8",
   "metadata": {},
   "outputs": [
    {
     "data": {
      "text/latex": [
       "$\\displaystyle - \\frac{8 \\left(3 + \\frac{2}{x}\\right)^{3}}{x^{2}}$"
      ],
      "text/plain": [
       "-8*(3 + 2/x)**3/x**2"
      ]
     },
     "execution_count": 65,
     "metadata": {},
     "output_type": "execute_result"
    }
   ],
   "source": [
    "# Oppgave 1c\n",
    "sp.diff((2*x/x**2+ 3)**4)"
   ]
  },
  {
   "cell_type": "code",
   "execution_count": 67,
   "id": "2075ec3e-057e-4042-a75b-403a2f3f7c49",
   "metadata": {},
   "outputs": [
    {
     "data": {
      "text/latex": [
       "$\\displaystyle 12.0 x^{3} \\left(2 x^{4} + 9\\right)^{0.5}$"
      ],
      "text/plain": [
       "12.0*x**3*(2*x**4 + 9)**0.5"
      ]
     },
     "execution_count": 67,
     "metadata": {},
     "output_type": "execute_result"
    }
   ],
   "source": [
    "# Oppgave 1d\n",
    "sp.diff((2*x**4+ 9)**1.5)"
   ]
  },
  {
   "cell_type": "code",
   "execution_count": 72,
   "id": "edbb58d9-c180-4874-8080-99d6e4298bc0",
   "metadata": {},
   "outputs": [
    {
     "data": {
      "text/latex": [
       "$\\displaystyle - \\frac{x}{\\left(x^{2} + 1\\right)^{\\frac{3}{2}}}$"
      ],
      "text/plain": [
       "-x/(x**2 + 1)**(3/2)"
      ]
     },
     "execution_count": 72,
     "metadata": {},
     "output_type": "execute_result"
    }
   ],
   "source": [
    "# Oppgave 1e \n",
    "sp.diff(1/sp.sqrt(1+x**2))"
   ]
  },
  {
   "cell_type": "code",
   "execution_count": 73,
   "id": "29af0906-f9c1-46f1-9761-801281e52c21",
   "metadata": {},
   "outputs": [
    {
     "data": {
      "text/latex": [
       "$\\displaystyle x^{2} \\left(6 x + 6\\right) \\left(x^{2} + 2 x\\right)^{2} + 2 x \\left(x^{2} + 2 x\\right)^{3}$"
      ],
      "text/plain": [
       "x**2*(6*x + 6)*(x**2 + 2*x)**2 + 2*x*(x**2 + 2*x)**3"
      ]
     },
     "execution_count": 73,
     "metadata": {},
     "output_type": "execute_result"
    }
   ],
   "source": [
    "# Oppgave 1f\n",
    "sp.diff(x**2*(x**2+ 2*x)**3)"
   ]
  },
  {
   "cell_type": "code",
   "execution_count": 74,
   "id": "c6a66da7-7bac-4d2e-952f-a2ee87e3ca4a",
   "metadata": {},
   "outputs": [
    {
     "data": {
      "text/latex": [
       "$\\displaystyle \\frac{x^{2} \\left(x - 1\\right)}{\\sqrt{x^{2} - 2 x}} + 2 x \\sqrt{x^{2} - 2 x}$"
      ],
      "text/plain": [
       "x**2*(x - 1)/sqrt(x**2 - 2*x) + 2*x*sqrt(x**2 - 2*x)"
      ]
     },
     "execution_count": 74,
     "metadata": {},
     "output_type": "execute_result"
    }
   ],
   "source": [
    "# Oppgave 1g\n",
    "sp.diff(x**2*sp.sqrt(x**2-2*x))"
   ]
  },
  {
   "cell_type": "code",
   "execution_count": 75,
   "id": "5c83d4a6-9d44-44c8-82db-7137a96d1f13",
   "metadata": {},
   "outputs": [
    {
     "data": {
      "text/latex": [
       "$\\displaystyle \\frac{x^{2} \\left(- 6 x - 3\\right)}{\\left(x^{2} + x\\right)^{4}} + \\frac{2 x}{\\left(x^{2} + x\\right)^{3}}$"
      ],
      "text/plain": [
       "x**2*(-6*x - 3)/(x**2 + x)**4 + 2*x/(x**2 + x)**3"
      ]
     },
     "execution_count": 75,
     "metadata": {},
     "output_type": "execute_result"
    }
   ],
   "source": [
    "# Oppgave 1h\n",
    "sp.diff(x**2/(x**2+x)**3)"
   ]
  },
  {
   "cell_type": "code",
   "execution_count": 79,
   "id": "e0fba8fc-11f0-43aa-a302-df80d8032922",
   "metadata": {},
   "outputs": [
    {
     "data": {
      "text/latex": [
       "$\\displaystyle 9 x^{2} \\left(x^{2} + 1\\right)^{2} \\left(x^{3} + 1\\right)^{2} + 4 x \\left(x^{2} + 1\\right) \\left(x^{3} + 1\\right)^{3}$"
      ],
      "text/plain": [
       "9*x**2*(x**2 + 1)**2*(x**3 + 1)**2 + 4*x*(x**2 + 1)*(x**3 + 1)**3"
      ]
     },
     "execution_count": 79,
     "metadata": {},
     "output_type": "execute_result"
    }
   ],
   "source": [
    "# Oppgave 1i\n",
    "sp.diff((x**2+ 1)**2*(x**3+ 1)**3)"
   ]
  },
  {
   "cell_type": "code",
   "execution_count": 82,
   "id": "81b7cdb7-556e-4256-bad8-0fad6f208911",
   "metadata": {},
   "outputs": [
    {
     "data": {
      "text/latex": [
       "$\\displaystyle \\frac{\\left(24 x + 8\\right) \\sqrt{\\left(3 x^{2} + 2 x\\right)^{4}}}{2 \\left(3 x^{2} + 2 x\\right)}$"
      ],
      "text/plain": [
       "(24*x + 8)*sqrt((3*x**2 + 2*x)**4)/(2*(3*x**2 + 2*x))"
      ]
     },
     "execution_count": 82,
     "metadata": {},
     "output_type": "execute_result"
    }
   ],
   "source": [
    "# Oppgave 2a\n",
    "sp.diff(sp.sqrt((3*x**2+ 2*x)**4))"
   ]
  },
  {
   "cell_type": "code",
   "execution_count": 83,
   "id": "157fe290-f32d-45ac-b594-1c8387071a02",
   "metadata": {},
   "outputs": [
    {
     "data": {
      "text/latex": [
       "$\\displaystyle 15 x^{2} \\left(x^{2} + 3\\right)^{4} \\left(x^{3} + 3\\right)^{4} + 8 x \\left(x^{2} + 3\\right)^{3} \\left(x^{3} + 3\\right)^{5}$"
      ],
      "text/plain": [
       "15*x**2*(x**2 + 3)**4*(x**3 + 3)**4 + 8*x*(x**2 + 3)**3*(x**3 + 3)**5"
      ]
     },
     "execution_count": 83,
     "metadata": {},
     "output_type": "execute_result"
    }
   ],
   "source": [
    "# Oppgave 2b\n",
    "sp.diff((x**3+ 3)**5*(x**2+ 3)**4)"
   ]
  },
  {
   "cell_type": "code",
   "execution_count": 84,
   "id": "d8db3602-9433-488b-b79a-1ffa416d121a",
   "metadata": {},
   "outputs": [
    {
     "data": {
      "text/latex": [
       "$\\displaystyle \\frac{\\sqrt{2} \\sqrt{x^{2}}}{x}$"
      ],
      "text/plain": [
       "sqrt(2)*sqrt(x**2)/x"
      ]
     },
     "execution_count": 84,
     "metadata": {},
     "output_type": "execute_result"
    }
   ],
   "source": [
    "# oppgave 2c\n",
    "sp.diff(sp.sqrt(x**2+ 1*x**2))"
   ]
  },
  {
   "cell_type": "code",
   "execution_count": 85,
   "id": "d221e39b-f805-429e-835f-7c3c59d1b1ef",
   "metadata": {},
   "outputs": [
    {
     "data": {
      "text/latex": [
       "$\\displaystyle \\frac{\\left(18 x + 6\\right) \\left(3 x^{2} + 2 x\\right)^{2}}{x^{2}} - \\frac{2 \\left(3 x^{2} + 2 x\\right)^{3}}{x^{3}}$"
      ],
      "text/plain": [
       "(18*x + 6)*(3*x**2 + 2*x)**2/x**2 - 2*(3*x**2 + 2*x)**3/x**3"
      ]
     },
     "execution_count": 85,
     "metadata": {},
     "output_type": "execute_result"
    }
   ],
   "source": [
    "# Oppgave 2d\n",
    "sp.diff((2*x+ 3*x**2)**3/x**2)"
   ]
  },
  {
   "cell_type": "code",
   "execution_count": 86,
   "id": "5ccd66ce-4fea-4522-963e-7717779310e7",
   "metadata": {},
   "outputs": [
    {
     "data": {
      "text/latex": [
       "$\\displaystyle \\frac{4 x^{3}}{3 \\left(x^{4} - 5\\right)^{\\frac{2}{3}}}$"
      ],
      "text/plain": [
       "4*x**3/(3*(x**4 - 5)**(2/3))"
      ]
     },
     "execution_count": 86,
     "metadata": {},
     "output_type": "execute_result"
    }
   ],
   "source": [
    "# Oppgave 2e\n",
    "sp.diff(sp.cbrt(x**4-5))"
   ]
  },
  {
   "cell_type": "code",
   "execution_count": 6,
   "id": "5972f6ab-03d9-423c-8161-1007c6458bb3",
   "metadata": {},
   "outputs": [
    {
     "data": {
      "text/latex": [
       "$\\displaystyle \\frac{2 x^{3}}{\\left(x^{4} - 1\\right)^{\\frac{3}{2}}} + 3 x^{2}$"
      ],
      "text/plain": [
       "2*x**3/(x**4 - 1)**(3/2) + 3*x**2"
      ]
     },
     "execution_count": 6,
     "metadata": {},
     "output_type": "execute_result"
    }
   ],
   "source": [
    "# Oppgave 2f\n",
    "sp.diff(x**3-1/sp.sqrt(x**4-1))"
   ]
  },
  {
   "cell_type": "code",
   "execution_count": 7,
   "id": "68998cc2-30d1-4a1f-8923-83001e70d42b",
   "metadata": {},
   "outputs": [],
   "source": [
    "# Likningsett 22"
   ]
  },
  {
   "cell_type": "code",
   "execution_count": 13,
   "id": "8acde064-747f-4be5-803d-a5cdfdd55def",
   "metadata": {},
   "outputs": [
    {
     "data": {
      "text/latex": [
       "$\\displaystyle \\log{\\left(5 x \\right)}$"
      ],
      "text/plain": [
       "log(5*x)"
      ]
     },
     "execution_count": 13,
     "metadata": {},
     "output_type": "execute_result"
    }
   ],
   "source": [
    "# oppgave 1a\n",
    "sp.log(5*x)"
   ]
  },
  {
   "cell_type": "code",
   "execution_count": 14,
   "id": "b9840798-b586-4562-bfbf-4f8b418a82c6",
   "metadata": {},
   "outputs": [
    {
     "ename": "NameError",
     "evalue": "name 'e' is not defined",
     "output_type": "error",
     "traceback": [
      "\u001b[0;31m---------------------------------------------------------------------------\u001b[0m",
      "\u001b[0;31mNameError\u001b[0m                                 Traceback (most recent call last)",
      "\u001b[0;32m/tmp/ipykernel_66228/121098788.py\u001b[0m in \u001b[0;36m<module>\u001b[0;34m\u001b[0m\n\u001b[1;32m      1\u001b[0m \u001b[0;31m# Oppgave 1b\u001b[0m\u001b[0;34m\u001b[0m\u001b[0;34m\u001b[0m\u001b[0;34m\u001b[0m\u001b[0m\n\u001b[0;32m----> 2\u001b[0;31m \u001b[0msp\u001b[0m\u001b[0;34m.\u001b[0m\u001b[0mlog\u001b[0m\u001b[0;34m(\u001b[0m\u001b[0me\u001b[0m\u001b[0;34m**\u001b[0m\u001b[0;34m-\u001b[0m\u001b[0;36m2\u001b[0m\u001b[0;34m*\u001b[0m\u001b[0mx\u001b[0m\u001b[0;34m)\u001b[0m\u001b[0;34m\u001b[0m\u001b[0;34m\u001b[0m\u001b[0m\n\u001b[0m",
      "\u001b[0;31mNameError\u001b[0m: name 'e' is not defined"
     ]
    }
   ],
   "source": [
    "# Oppgave 1b\n",
    "sp.log(e**-2*x)"
   ]
  },
  {
   "cell_type": "code",
   "execution_count": 15,
   "id": "a22fd872-857c-4040-a7e9-28f33851feab",
   "metadata": {},
   "outputs": [
    {
     "data": {
      "text/latex": [
       "$\\displaystyle \\log{\\left(12 x - 3 \\right)}$"
      ],
      "text/plain": [
       "log(12*x - 3)"
      ]
     },
     "execution_count": 15,
     "metadata": {},
     "output_type": "execute_result"
    }
   ],
   "source": [
    "# Oppgave 1c\n",
    "sp.log((12*x)-3)"
   ]
  },
  {
   "cell_type": "code",
   "execution_count": 16,
   "id": "ce5c88e2-b51e-444c-858a-db76c1e70caa",
   "metadata": {},
   "outputs": [
    {
     "data": {
      "text/latex": [
       "$\\displaystyle e^{2^{x}}$"
      ],
      "text/plain": [
       "exp(2**x)"
      ]
     },
     "execution_count": 16,
     "metadata": {},
     "output_type": "execute_result"
    }
   ],
   "source": [
    "sp.exp(2**x)"
   ]
  },
  {
   "cell_type": "code",
   "execution_count": 20,
   "id": "fafadc71-7b6e-4276-9f82-ae2ce8f44fe9",
   "metadata": {},
   "outputs": [
    {
     "ename": "NameError",
     "evalue": "name 'e' is not defined",
     "output_type": "error",
     "traceback": [
      "\u001b[0;31m---------------------------------------------------------------------------\u001b[0m",
      "\u001b[0;31mNameError\u001b[0m                                 Traceback (most recent call last)",
      "\u001b[0;32m/tmp/ipykernel_66228/872364919.py\u001b[0m in \u001b[0;36m<module>\u001b[0;34m\u001b[0m\n\u001b[1;32m      1\u001b[0m \u001b[0;31m# Oppgave 1e\u001b[0m\u001b[0;34m\u001b[0m\u001b[0;34m\u001b[0m\u001b[0;34m\u001b[0m\u001b[0m\n\u001b[0;32m----> 2\u001b[0;31m \u001b[0msp\u001b[0m\u001b[0;34m.\u001b[0m\u001b[0mlog\u001b[0m\u001b[0;34m(\u001b[0m\u001b[0me\u001b[0m\u001b[0;34m**\u001b[0m\u001b[0;36m3\u001b[0m\u001b[0;34m*\u001b[0m\u001b[0mx\u001b[0m\u001b[0;34m+\u001b[0m\u001b[0;36m5\u001b[0m\u001b[0;34m)\u001b[0m\u001b[0;34m\u001b[0m\u001b[0;34m\u001b[0m\u001b[0m\n\u001b[0m",
      "\u001b[0;31mNameError\u001b[0m: name 'e' is not defined"
     ]
    }
   ],
   "source": [
    "# Oppgave 1e\n",
    "sp.log(e**3*x+5)"
   ]
  },
  {
   "cell_type": "code",
   "execution_count": null,
   "id": "d7cabee5-e4ce-4dde-9e84-d0c1288b3a4d",
   "metadata": {},
   "outputs": [],
   "source": [
    "# Oppgave 1f\n",
    "sp"
   ]
  }
 ],
 "metadata": {
  "kernelspec": {
   "display_name": "Python 3 (ipykernel)",
   "language": "python",
   "name": "python3"
  },
  "language_info": {
   "codemirror_mode": {
    "name": "ipython",
    "version": 3
   },
   "file_extension": ".py",
   "mimetype": "text/x-python",
   "name": "python",
   "nbconvert_exporter": "python",
   "pygments_lexer": "ipython3",
   "version": "3.9.5"
  }
 },
 "nbformat": 4,
 "nbformat_minor": 5
}
